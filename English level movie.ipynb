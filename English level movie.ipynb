{
 "cells": [
  {
   "cell_type": "markdown",
   "id": "fc88cb2f",
   "metadata": {},
   "source": [
    "# Определение уровня английского языка в фильмах по субтитрам"
   ]
  },
  {
   "cell_type": "markdown",
   "id": "7a6fc3d8",
   "metadata": {},
   "source": [
    "## Описание работы"
   ]
  },
  {
   "cell_type": "markdown",
   "id": "c0d26874",
   "metadata": {},
   "source": [
    "### Постановка задачи"
   ]
  },
  {
   "cell_type": "markdown",
   "id": "4f80a2c4",
   "metadata": {},
   "source": [
    "**Заказчик:** Языковой центр.  \n",
    "Необходимо разработать приложение которое позволит определить какой уровень знания языка необходим студенту, чтобы посмотреть выбранный фильм."
   ]
  },
  {
   "cell_type": "markdown",
   "id": "7d1d881a",
   "metadata": {},
   "source": [
    "**Дано:**  \n",
    "movies_labels.xlsx - Фильм и его языковой уровень.  \n",
    "levels.xlsx - перечень слов для определения уровня знания английского языка\n",
    "\n",
    "Папка Subtitles_all содержащая набор субтитров для размеченных фильмов"
   ]
  },
  {
   "cell_type": "markdown",
   "id": "5307b97e",
   "metadata": {},
   "source": [
    "### Цели и этапы решения задачи"
   ]
  },
  {
   "cell_type": "markdown",
   "id": "5e6239f1",
   "metadata": {},
   "source": [
    "**Цель:** реализовать модель позволяющую оценить уровень аглийского языка в фильме.\n",
    "\n",
    "**Этапы решения задачи:**\n",
    "1.\tЗагрузить данные\n",
    "2.\tОбработать текстовые данные: убрать заглавные буквы, отчистить данные от стоп слов, удалить символы, пунктуацию, сделать стемминг и лемматизацию.\n",
    "3.\tПроверить данные на наличие дубликатов\n",
    "4.\tОбогатить данные посчитав количество слов каждой категории в субтитре.\n",
    "5.\tРазделить данные на обучающую и тестовую\n",
    "6.  Построить модель и получить результат. Определяющей метрикой является accuracy.\n",
    "7.  Написать вывод"
   ]
  },
  {
   "cell_type": "markdown",
   "id": "1f5785f0",
   "metadata": {},
   "source": [
    "## Подготовка данных"
   ]
  },
  {
   "cell_type": "markdown",
   "id": "c9ca66ec",
   "metadata": {},
   "source": [
    "### Импорт библиотек¶"
   ]
  },
  {
   "cell_type": "code",
   "execution_count": 12,
   "id": "f2aa92f4",
   "metadata": {},
   "outputs": [
    {
     "name": "stdout",
     "output_type": "stream",
     "text": [
      "Requirement already satisfied: pysrt in c:\\users\\fenya\\anaconda3\\lib\\site-packages (1.1.2)\n",
      "Requirement already satisfied: chardet in c:\\users\\fenya\\anaconda3\\lib\\site-packages (from pysrt) (4.0.0)\n"
     ]
    }
   ],
   "source": [
    "!pip install pysrt"
   ]
  },
  {
   "cell_type": "code",
   "execution_count": 13,
   "id": "be6d09bb",
   "metadata": {},
   "outputs": [
    {
     "name": "stderr",
     "output_type": "stream",
     "text": [
      "[nltk_data] Downloading package stopwords to\n",
      "[nltk_data]     C:\\Users\\Fenya\\AppData\\Roaming\\nltk_data...\n",
      "[nltk_data]   Package stopwords is already up-to-date!\n",
      "[nltk_data] Downloading package wordnet to\n",
      "[nltk_data]     C:\\Users\\Fenya\\AppData\\Roaming\\nltk_data...\n",
      "[nltk_data]   Package wordnet is already up-to-date!\n",
      "[nltk_data] Downloading package omw-1.4 to\n",
      "[nltk_data]     C:\\Users\\Fenya\\AppData\\Roaming\\nltk_data...\n",
      "[nltk_data]   Package omw-1.4 is already up-to-date!\n"
     ]
    }
   ],
   "source": [
    "import numpy as np\n",
    "import pandas as pd\n",
    "from datetime import datetime\n",
    "import matplotlib.pyplot as plt\n",
    "import seaborn as sns\n",
    "import pysrt\n",
    "import os\n",
    "import re\n",
    "import string\n",
    "import nltk\n",
    "\n",
    "from nltk.stem import PorterStemmer\n",
    "from nltk.stem.wordnet import WordNetLemmatizer\n",
    "from nltk.corpus import stopwords\n",
    "from nltk.stem.snowball import SnowballStemmer\n",
    "nltk.download('stopwords')\n",
    "nltk.download('wordnet')\n",
    "nltk.download('omw-1.4')\n",
    "\n",
    "from sklearn.feature_extraction.text import TfidfVectorizer\n",
    "from sklearn.naive_bayes import MultinomialNB\n",
    "from sklearn.model_selection import RandomizedSearchCV\n",
    "from sklearn.metrics import accuracy_score\n",
    "from sklearn.model_selection import train_test_split\n",
    "\n",
    "\n",
    "random_state = 123456"
   ]
  },
  {
   "cell_type": "markdown",
   "id": "3a899c41",
   "metadata": {},
   "source": [
    "### Загрузка обработка данных с разметкой фильмов"
   ]
  },
  {
   "cell_type": "markdown",
   "id": "4378d9fa",
   "metadata": {},
   "source": [
    "#### Загрузка данных"
   ]
  },
  {
   "cell_type": "code",
   "execution_count": 14,
   "id": "5ba5af60",
   "metadata": {},
   "outputs": [
    {
     "data": {
      "text/html": [
       "<div>\n",
       "<style scoped>\n",
       "    .dataframe tbody tr th:only-of-type {\n",
       "        vertical-align: middle;\n",
       "    }\n",
       "\n",
       "    .dataframe tbody tr th {\n",
       "        vertical-align: top;\n",
       "    }\n",
       "\n",
       "    .dataframe thead th {\n",
       "        text-align: right;\n",
       "    }\n",
       "</style>\n",
       "<table border=\"1\" class=\"dataframe\">\n",
       "  <thead>\n",
       "    <tr style=\"text-align: right;\">\n",
       "      <th></th>\n",
       "      <th>Movie</th>\n",
       "      <th>Level</th>\n",
       "    </tr>\n",
       "    <tr>\n",
       "      <th>id</th>\n",
       "      <th></th>\n",
       "      <th></th>\n",
       "    </tr>\n",
       "  </thead>\n",
       "  <tbody>\n",
       "    <tr>\n",
       "      <th>0</th>\n",
       "      <td>10_Cloverfield_lane(2016)</td>\n",
       "      <td>B1</td>\n",
       "    </tr>\n",
       "    <tr>\n",
       "      <th>1</th>\n",
       "      <td>10_things_I_hate_about_you(1999)</td>\n",
       "      <td>B1</td>\n",
       "    </tr>\n",
       "    <tr>\n",
       "      <th>2</th>\n",
       "      <td>A_knights_tale(2001)</td>\n",
       "      <td>B2</td>\n",
       "    </tr>\n",
       "    <tr>\n",
       "      <th>3</th>\n",
       "      <td>A_star_is_born(2018)</td>\n",
       "      <td>B2</td>\n",
       "    </tr>\n",
       "    <tr>\n",
       "      <th>4</th>\n",
       "      <td>Aladdin(1992)</td>\n",
       "      <td>A2/A2+</td>\n",
       "    </tr>\n",
       "  </tbody>\n",
       "</table>\n",
       "</div>"
      ],
      "text/plain": [
       "                               Movie   Level\n",
       "id                                          \n",
       "0          10_Cloverfield_lane(2016)      B1\n",
       "1   10_things_I_hate_about_you(1999)      B1\n",
       "2               A_knights_tale(2001)      B2\n",
       "3               A_star_is_born(2018)      B2\n",
       "4                      Aladdin(1992)  A2/A2+"
      ]
     },
     "execution_count": 14,
     "metadata": {},
     "output_type": "execute_result"
    }
   ],
   "source": [
    "df = pd.read_excel(r'movies_labels.xlsx', index_col=0)  \n",
    "df['Movie'] = df['Movie'].str.replace(':', '')\n",
    "df.head(5)"
   ]
  },
  {
   "cell_type": "markdown",
   "id": "06c81d90",
   "metadata": {},
   "source": [
    "#### Удаление дубликатов"
   ]
  },
  {
   "cell_type": "code",
   "execution_count": 15,
   "id": "ce6a2d66",
   "metadata": {},
   "outputs": [
    {
     "data": {
      "text/html": [
       "<div>\n",
       "<style scoped>\n",
       "    .dataframe tbody tr th:only-of-type {\n",
       "        vertical-align: middle;\n",
       "    }\n",
       "\n",
       "    .dataframe tbody tr th {\n",
       "        vertical-align: top;\n",
       "    }\n",
       "\n",
       "    .dataframe thead th {\n",
       "        text-align: right;\n",
       "    }\n",
       "</style>\n",
       "<table border=\"1\" class=\"dataframe\">\n",
       "  <thead>\n",
       "    <tr style=\"text-align: right;\">\n",
       "      <th></th>\n",
       "      <th>Movie</th>\n",
       "      <th>Level</th>\n",
       "    </tr>\n",
       "    <tr>\n",
       "      <th>id</th>\n",
       "      <th></th>\n",
       "      <th></th>\n",
       "    </tr>\n",
       "  </thead>\n",
       "  <tbody>\n",
       "    <tr>\n",
       "      <th>43</th>\n",
       "      <td>Inside_out(2015)</td>\n",
       "      <td>B1</td>\n",
       "    </tr>\n",
       "    <tr>\n",
       "      <th>44</th>\n",
       "      <td>Inside_out(2015)</td>\n",
       "      <td>B1</td>\n",
       "    </tr>\n",
       "  </tbody>\n",
       "</table>\n",
       "</div>"
      ],
      "text/plain": [
       "               Movie Level\n",
       "id                        \n",
       "43  Inside_out(2015)    B1\n",
       "44  Inside_out(2015)    B1"
      ]
     },
     "metadata": {},
     "output_type": "display_data"
    },
    {
     "data": {
      "text/html": [
       "<div>\n",
       "<style scoped>\n",
       "    .dataframe tbody tr th:only-of-type {\n",
       "        vertical-align: middle;\n",
       "    }\n",
       "\n",
       "    .dataframe tbody tr th {\n",
       "        vertical-align: top;\n",
       "    }\n",
       "\n",
       "    .dataframe thead th {\n",
       "        text-align: right;\n",
       "    }\n",
       "</style>\n",
       "<table border=\"1\" class=\"dataframe\">\n",
       "  <thead>\n",
       "    <tr style=\"text-align: right;\">\n",
       "      <th></th>\n",
       "      <th>Movie</th>\n",
       "      <th>Level</th>\n",
       "    </tr>\n",
       "    <tr>\n",
       "      <th>id</th>\n",
       "      <th></th>\n",
       "      <th></th>\n",
       "    </tr>\n",
       "  </thead>\n",
       "  <tbody>\n",
       "    <tr>\n",
       "      <th>38</th>\n",
       "      <td>Powder(1995)</td>\n",
       "      <td>B1</td>\n",
       "    </tr>\n",
       "    <tr>\n",
       "      <th>68</th>\n",
       "      <td>Powder(1995)</td>\n",
       "      <td>B1</td>\n",
       "    </tr>\n",
       "  </tbody>\n",
       "</table>\n",
       "</div>"
      ],
      "text/plain": [
       "           Movie Level\n",
       "id                    \n",
       "38  Powder(1995)    B1\n",
       "68  Powder(1995)    B1"
      ]
     },
     "metadata": {},
     "output_type": "display_data"
    },
    {
     "data": {
      "text/html": [
       "<div>\n",
       "<style scoped>\n",
       "    .dataframe tbody tr th:only-of-type {\n",
       "        vertical-align: middle;\n",
       "    }\n",
       "\n",
       "    .dataframe tbody tr th {\n",
       "        vertical-align: top;\n",
       "    }\n",
       "\n",
       "    .dataframe thead th {\n",
       "        text-align: right;\n",
       "    }\n",
       "</style>\n",
       "<table border=\"1\" class=\"dataframe\">\n",
       "  <thead>\n",
       "    <tr style=\"text-align: right;\">\n",
       "      <th></th>\n",
       "      <th>Movie</th>\n",
       "      <th>Level</th>\n",
       "    </tr>\n",
       "    <tr>\n",
       "      <th>id</th>\n",
       "      <th></th>\n",
       "      <th></th>\n",
       "    </tr>\n",
       "  </thead>\n",
       "  <tbody>\n",
       "    <tr>\n",
       "      <th>75</th>\n",
       "      <td>The_blind_side(2009)</td>\n",
       "      <td>B2</td>\n",
       "    </tr>\n",
       "    <tr>\n",
       "      <th>84</th>\n",
       "      <td>The_blind_side(2009)</td>\n",
       "      <td>B1</td>\n",
       "    </tr>\n",
       "  </tbody>\n",
       "</table>\n",
       "</div>"
      ],
      "text/plain": [
       "                   Movie Level\n",
       "id                            \n",
       "75  The_blind_side(2009)    B2\n",
       "84  The_blind_side(2009)    B1"
      ]
     },
     "metadata": {},
     "output_type": "display_data"
    },
    {
     "data": {
      "text/html": [
       "<div>\n",
       "<style scoped>\n",
       "    .dataframe tbody tr th:only-of-type {\n",
       "        vertical-align: middle;\n",
       "    }\n",
       "\n",
       "    .dataframe tbody tr th {\n",
       "        vertical-align: top;\n",
       "    }\n",
       "\n",
       "    .dataframe thead th {\n",
       "        text-align: right;\n",
       "    }\n",
       "</style>\n",
       "<table border=\"1\" class=\"dataframe\">\n",
       "  <thead>\n",
       "    <tr style=\"text-align: right;\">\n",
       "      <th></th>\n",
       "      <th>Movie</th>\n",
       "      <th>Level</th>\n",
       "    </tr>\n",
       "    <tr>\n",
       "      <th>id</th>\n",
       "      <th></th>\n",
       "      <th></th>\n",
       "    </tr>\n",
       "  </thead>\n",
       "  <tbody>\n",
       "    <tr>\n",
       "      <th>83</th>\n",
       "      <td>The_terminal(2004)</td>\n",
       "      <td>B1</td>\n",
       "    </tr>\n",
       "    <tr>\n",
       "      <th>99</th>\n",
       "      <td>The_terminal(2004)</td>\n",
       "      <td>A2/A2+, B1</td>\n",
       "    </tr>\n",
       "  </tbody>\n",
       "</table>\n",
       "</div>"
      ],
      "text/plain": [
       "                 Movie       Level\n",
       "id                                \n",
       "83  The_terminal(2004)          B1\n",
       "99  The_terminal(2004)  A2/A2+, B1"
      ]
     },
     "metadata": {},
     "output_type": "display_data"
    }
   ],
   "source": [
    "df[df['Movie'].duplicated()]['Movie'].values\n",
    "for movie in df[df['Movie'].duplicated()]['Movie'].values:\n",
    "    display(df[df['Movie'] == movie])"
   ]
  },
  {
   "cell_type": "code",
   "execution_count": 16,
   "id": "0eed959f",
   "metadata": {
    "scrolled": true
   },
   "outputs": [
    {
     "data": {
      "text/plain": [
       "0"
      ]
     },
     "execution_count": 16,
     "metadata": {},
     "output_type": "execute_result"
    }
   ],
   "source": [
    "df.loc[df['Movie']=='The_blind_side(2009)', 'Level'] = 'B2'\n",
    "df.loc[df['Movie']=='The_terminal(2004)', 'Level'] = 'A2/A2+, B1'\n",
    "df.loc[df['Movie']=='The_terminal(2004)']\n",
    "\n",
    "df = df.drop_duplicates().reset_index(drop=True)\n",
    "\n",
    "df.duplicated().sum()"
   ]
  },
  {
   "cell_type": "markdown",
   "id": "f1b7b4fe",
   "metadata": {},
   "source": [
    "### Загрузка набора слов для уровней"
   ]
  },
  {
   "cell_type": "code",
   "execution_count": 17,
   "id": "5c55be52",
   "metadata": {},
   "outputs": [],
   "source": [
    "file_path = 'levels.xlsx'\n",
    "level_words = pd.read_excel(file_path, sheet_name='All', usecols=[0, 1, 2, 3, 4])\n",
    "A1 = level_words['A1'].unique()[:-1]\n",
    "A2 = level_words['A2'].unique()[:-1]\n",
    "B1 = level_words['B1'].unique()[:-1]\n",
    "B2 = level_words['B2'].unique()\n",
    "C1 = level_words['C1'].unique()[:-1]"
   ]
  },
  {
   "cell_type": "markdown",
   "id": "a5a45be0",
   "metadata": {},
   "source": [
    "### Загрузка и обработка субтитров"
   ]
  },
  {
   "cell_type": "code",
   "execution_count": 18,
   "id": "29306f89",
   "metadata": {},
   "outputs": [],
   "source": [
    "def clean_string(text):\n",
    "\n",
    "    final_string = \"\"\n",
    "\n",
    "    # Make lower\n",
    "    text = text.lower()\n",
    "\n",
    "    # Remove line breaks\n",
    "    text = re.sub(r'\\n', ' ', text)\n",
    "    \n",
    "    # Remove simbols\n",
    "    text = re.sub(r'[^a-zA-Z\\s]', ' ', text)\n",
    "    \n",
    "    # Remove numbers\n",
    "    nums = ['0','1','2','3','4','5','6','7','8','9']\n",
    "    for num in nums: text = re.sub(num, ' ', text) \n",
    "\n",
    "    # Remove puncuation\n",
    "    translator = str.maketrans('', '', string.punctuation)\n",
    "    text = text.translate(translator)  \n",
    "         \n",
    "    # Remove stop words\n",
    "    text = text.split()\n",
    "    useless_words = nltk.corpus.stopwords.words(\"english\")\n",
    "    useless_words = useless_words + ['hi', 'im']\n",
    "\n",
    "    text_filtered = [word for word in text if not word in useless_words]\n",
    "    \n",
    "    # Stemming\n",
    "    stemmer = PorterStemmer() \n",
    "    text_stemmed = [stemmer.stem(y) for y in text_filtered]\n",
    "    \n",
    "    # Lemmatization\n",
    "    lem = WordNetLemmatizer()\n",
    "    text_stemmed = [lem.lemmatize(y) for y in text_stemmed]\n",
    "    \n",
    "    final_string = ' '.join(text_stemmed)\n",
    "    \n",
    "    return final_string"
   ]
  },
  {
   "cell_type": "code",
   "execution_count": 19,
   "id": "23de0f5e",
   "metadata": {
    "scrolled": true
   },
   "outputs": [],
   "source": [
    "def get_sub_text(path):\n",
    "    input_files_path = path+\"\\\\\"\n",
    "    # Collection of files in a folder\n",
    "    files: list = os.listdir(input_files_path)\n",
    "    files = sorted(files)\n",
    "    name = []\n",
    "    subs = []\n",
    "    \n",
    "    for file in files:\n",
    "        #open and encoding file\n",
    "        sub = pysrt.open(input_files_path + file, encoding='iso-8859-1')\n",
    "        #get text\n",
    "        subtitles_text = sub.text\n",
    "        #cleaning text\n",
    "        subtitles_text = clean_string(subtitles_text)\n",
    "        name.append(file[:-4])\n",
    "        subs.append(subtitles_text)\n",
    "    return name,subs\n",
    "\n",
    "movie = []\n",
    "subtitles = []\n",
    "\n",
    "links = ['Subtitles_all\\A2',\n",
    "         'Subtitles_all\\B1',\n",
    "         'Subtitles_all\\B2',\n",
    "         'Subtitles_all\\C1',\n",
    "         'Subtitles_all\\Subtitles']\n",
    "\n",
    "for link in links:\n",
    "    names, subs = get_sub_text(link)\n",
    "    for name in names: movie.append(name)\n",
    "    for sub in subs: subtitles.append(sub)\n",
    "\n",
    "#create DataFrame with all subtitles\n",
    "all_subtitles = pd.DataFrame()\n",
    "all_subtitles['Movie'] = movie\n",
    "all_subtitles['Subtitles'] = subtitles"
   ]
  },
  {
   "cell_type": "markdown",
   "id": "f6818d03",
   "metadata": {},
   "source": [
    "### Создание общего DataFrame"
   ]
  },
  {
   "cell_type": "code",
   "execution_count": 20,
   "id": "f7fa69e0",
   "metadata": {},
   "outputs": [
    {
     "data": {
      "text/html": [
       "<div>\n",
       "<style scoped>\n",
       "    .dataframe tbody tr th:only-of-type {\n",
       "        vertical-align: middle;\n",
       "    }\n",
       "\n",
       "    .dataframe tbody tr th {\n",
       "        vertical-align: top;\n",
       "    }\n",
       "\n",
       "    .dataframe thead th {\n",
       "        text-align: right;\n",
       "    }\n",
       "</style>\n",
       "<table border=\"1\" class=\"dataframe\">\n",
       "  <thead>\n",
       "    <tr style=\"text-align: right;\">\n",
       "      <th></th>\n",
       "      <th>Movie</th>\n",
       "      <th>Level</th>\n",
       "      <th>Subtitles</th>\n",
       "    </tr>\n",
       "  </thead>\n",
       "  <tbody>\n",
       "    <tr>\n",
       "      <th>0</th>\n",
       "      <td>10_Cloverfield_lane(2016)</td>\n",
       "      <td>B1</td>\n",
       "      <td>font color ffff b fix sync bozxphd enjoy flick...</td>\n",
       "    </tr>\n",
       "    <tr>\n",
       "      <th>1</th>\n",
       "      <td>10_things_I_hate_about_you(1999)</td>\n",
       "      <td>B1</td>\n",
       "      <td>hey right cameron go nine school year armi bra...</td>\n",
       "    </tr>\n",
       "    <tr>\n",
       "      <th>2</th>\n",
       "      <td>A_knights_tale(2001)</td>\n",
       "      <td>B2</td>\n",
       "      <td>resync xenzai nef retail help due list two min...</td>\n",
       "    </tr>\n",
       "    <tr>\n",
       "      <th>3</th>\n",
       "      <td>A_star_is_born(2018)</td>\n",
       "      <td>B2</td>\n",
       "      <td>font color ffffff sync correct font b font col...</td>\n",
       "    </tr>\n",
       "    <tr>\n",
       "      <th>4</th>\n",
       "      <td>Aladdin(1992)</td>\n",
       "      <td>A2/A2+</td>\n",
       "      <td>oh come land faraway place caravan camel roam ...</td>\n",
       "    </tr>\n",
       "  </tbody>\n",
       "</table>\n",
       "</div>"
      ],
      "text/plain": [
       "                              Movie   Level  \\\n",
       "0         10_Cloverfield_lane(2016)      B1   \n",
       "1  10_things_I_hate_about_you(1999)      B1   \n",
       "2              A_knights_tale(2001)      B2   \n",
       "3              A_star_is_born(2018)      B2   \n",
       "4                     Aladdin(1992)  A2/A2+   \n",
       "\n",
       "                                           Subtitles  \n",
       "0  font color ffff b fix sync bozxphd enjoy flick...  \n",
       "1  hey right cameron go nine school year armi bra...  \n",
       "2  resync xenzai nef retail help due list two min...  \n",
       "3  font color ffffff sync correct font b font col...  \n",
       "4  oh come land faraway place caravan camel roam ...  "
      ]
     },
     "execution_count": 20,
     "metadata": {},
     "output_type": "execute_result"
    }
   ],
   "source": [
    "level_df = df.merge(all_subtitles, on='Movie', how='left')\n",
    "level_df.head(5)"
   ]
  },
  {
   "cell_type": "markdown",
   "id": "209cbeba",
   "metadata": {},
   "source": [
    "### Обогощение данных"
   ]
  },
  {
   "cell_type": "markdown",
   "id": "0dc673ce",
   "metadata": {},
   "source": [
    "Данные можно обогатить с использованием перечней слов из файла levels.xlsx. Для каждого фильма рассчитывается сколько слова каждой категории содержит субтитр фильма"
   ]
  },
  {
   "cell_type": "code",
   "execution_count": 21,
   "id": "78d8b5c5",
   "metadata": {},
   "outputs": [],
   "source": [
    "def counter_level(sub_wors):\n",
    "    #unique sets for subtitles \n",
    "    words = list(set(sub_wors))\n",
    "    #intersection of word sets \n",
    "    A1_counter=len(set(words).intersection(set(A1)))\n",
    "    A2_counter=len(set(words).intersection(set(A2)))\n",
    "    B1_counter=len(set(words).intersection(set(B1)))\n",
    "    B2_counter=len(set(words).intersection(set(B2)))\n",
    "    C1_counter=len(set(words).intersection(set(C1)))\n",
    "\n",
    "    return A1_counter, A2_counter, B1_counter, B2_counter, C1_counter"
   ]
  },
  {
   "cell_type": "code",
   "execution_count": 22,
   "id": "e8d242e1",
   "metadata": {},
   "outputs": [],
   "source": [
    "A1_counter_list = []\n",
    "A2_counter_list = []\n",
    "B1_counter_list = []\n",
    "B2_counter_list = []\n",
    "C1_counter_list = []\n",
    "for i in range(level_df.shape[0]):\n",
    "    A1_counter, A2_counter, B1_counter, B2_counter, C1_counter = counter_level(level_df['Subtitles'][i].split())\n",
    "    A1_counter_list.append(A1_counter)\n",
    "    A2_counter_list.append(A2_counter)\n",
    "    B1_counter_list.append(B1_counter)\n",
    "    B2_counter_list.append(B2_counter)\n",
    "    C1_counter_list.append(C1_counter)"
   ]
  },
  {
   "cell_type": "code",
   "execution_count": 23,
   "id": "497ec74d",
   "metadata": {},
   "outputs": [],
   "source": [
    "level_df['A1_counter'] = A1_counter_list\n",
    "level_df['A2_counter'] = A2_counter_list\n",
    "level_df['B1_counter'] = B1_counter_list\n",
    "level_df['B2_counter'] = B2_counter_list\n",
    "level_df['C1_counter'] = C1_counter_list"
   ]
  },
  {
   "cell_type": "markdown",
   "id": "b4dfec2b",
   "metadata": {},
   "source": [
    "### Итоговый DataFrame"
   ]
  },
  {
   "cell_type": "code",
   "execution_count": 24,
   "id": "45120301",
   "metadata": {
    "scrolled": false
   },
   "outputs": [
    {
     "data": {
      "text/html": [
       "<div>\n",
       "<style scoped>\n",
       "    .dataframe tbody tr th:only-of-type {\n",
       "        vertical-align: middle;\n",
       "    }\n",
       "\n",
       "    .dataframe tbody tr th {\n",
       "        vertical-align: top;\n",
       "    }\n",
       "\n",
       "    .dataframe thead th {\n",
       "        text-align: right;\n",
       "    }\n",
       "</style>\n",
       "<table border=\"1\" class=\"dataframe\">\n",
       "  <thead>\n",
       "    <tr style=\"text-align: right;\">\n",
       "      <th></th>\n",
       "      <th>Movie</th>\n",
       "      <th>Level</th>\n",
       "      <th>Subtitles</th>\n",
       "      <th>A1_counter</th>\n",
       "      <th>A2_counter</th>\n",
       "      <th>B1_counter</th>\n",
       "      <th>B2_counter</th>\n",
       "      <th>C1_counter</th>\n",
       "      <th>A2</th>\n",
       "      <th>B1</th>\n",
       "      <th>B2</th>\n",
       "      <th>C1</th>\n",
       "    </tr>\n",
       "  </thead>\n",
       "  <tbody>\n",
       "    <tr>\n",
       "      <th>0</th>\n",
       "      <td>10_Cloverfield_lane(2016)</td>\n",
       "      <td>B1</td>\n",
       "      <td>font color ffff b fix sync bozxphd enjoy flick...</td>\n",
       "      <td>254</td>\n",
       "      <td>131</td>\n",
       "      <td>95</td>\n",
       "      <td>84</td>\n",
       "      <td>38</td>\n",
       "      <td>0</td>\n",
       "      <td>1</td>\n",
       "      <td>0</td>\n",
       "      <td>0</td>\n",
       "    </tr>\n",
       "    <tr>\n",
       "      <th>1</th>\n",
       "      <td>10_things_I_hate_about_you(1999)</td>\n",
       "      <td>B1</td>\n",
       "      <td>hey right cameron go nine school year armi bra...</td>\n",
       "      <td>295</td>\n",
       "      <td>165</td>\n",
       "      <td>125</td>\n",
       "      <td>108</td>\n",
       "      <td>54</td>\n",
       "      <td>0</td>\n",
       "      <td>1</td>\n",
       "      <td>0</td>\n",
       "      <td>0</td>\n",
       "    </tr>\n",
       "    <tr>\n",
       "      <th>2</th>\n",
       "      <td>A_knights_tale(2001)</td>\n",
       "      <td>B2</td>\n",
       "      <td>resync xenzai nef retail help due list two min...</td>\n",
       "      <td>276</td>\n",
       "      <td>176</td>\n",
       "      <td>116</td>\n",
       "      <td>110</td>\n",
       "      <td>63</td>\n",
       "      <td>0</td>\n",
       "      <td>0</td>\n",
       "      <td>1</td>\n",
       "      <td>0</td>\n",
       "    </tr>\n",
       "    <tr>\n",
       "      <th>3</th>\n",
       "      <td>A_star_is_born(2018)</td>\n",
       "      <td>B2</td>\n",
       "      <td>font color ffffff sync correct font b font col...</td>\n",
       "      <td>300</td>\n",
       "      <td>170</td>\n",
       "      <td>105</td>\n",
       "      <td>105</td>\n",
       "      <td>37</td>\n",
       "      <td>0</td>\n",
       "      <td>0</td>\n",
       "      <td>1</td>\n",
       "      <td>0</td>\n",
       "    </tr>\n",
       "    <tr>\n",
       "      <th>4</th>\n",
       "      <td>Aladdin(1992)</td>\n",
       "      <td>A2/A2+</td>\n",
       "      <td>oh come land faraway place caravan camel roam ...</td>\n",
       "      <td>273</td>\n",
       "      <td>168</td>\n",
       "      <td>117</td>\n",
       "      <td>114</td>\n",
       "      <td>57</td>\n",
       "      <td>1</td>\n",
       "      <td>0</td>\n",
       "      <td>0</td>\n",
       "      <td>0</td>\n",
       "    </tr>\n",
       "  </tbody>\n",
       "</table>\n",
       "</div>"
      ],
      "text/plain": [
       "                              Movie   Level  \\\n",
       "0         10_Cloverfield_lane(2016)      B1   \n",
       "1  10_things_I_hate_about_you(1999)      B1   \n",
       "2              A_knights_tale(2001)      B2   \n",
       "3              A_star_is_born(2018)      B2   \n",
       "4                     Aladdin(1992)  A2/A2+   \n",
       "\n",
       "                                           Subtitles  A1_counter  A2_counter  \\\n",
       "0  font color ffff b fix sync bozxphd enjoy flick...         254         131   \n",
       "1  hey right cameron go nine school year armi bra...         295         165   \n",
       "2  resync xenzai nef retail help due list two min...         276         176   \n",
       "3  font color ffffff sync correct font b font col...         300         170   \n",
       "4  oh come land faraway place caravan camel roam ...         273         168   \n",
       "\n",
       "   B1_counter  B2_counter  C1_counter  A2  B1  B2  C1  \n",
       "0          95          84          38   0   1   0   0  \n",
       "1         125         108          54   0   1   0   0  \n",
       "2         116         110          63   0   0   1   0  \n",
       "3         105         105          37   0   0   1   0  \n",
       "4         117         114          57   1   0   0   0  "
      ]
     },
     "execution_count": 24,
     "metadata": {},
     "output_type": "execute_result"
    }
   ],
   "source": [
    "level_df['A2'] = 0 \n",
    "level_df.loc[level_df['Level'].isin(['A2','A2/A2+','A2/A2+, B1']), 'A2'] = 1\n",
    "\n",
    "level_df['B1'] = 0 \n",
    "level_df.loc[level_df['Level'].isin(['B1','A2/A2+, B1','B1, B2']), 'B1'] = 1\n",
    "\n",
    "level_df['B2'] = 0 \n",
    "level_df.loc[level_df['Level'].isin(['B2', 'B1, B2']), 'B2'] = 1\n",
    "\n",
    "level_df['C1'] = 0 \n",
    "level_df.loc[level_df['Level'].isin(['C1']), 'C1'] = 1\n",
    "\n",
    "level_df.head(5)"
   ]
  },
  {
   "cell_type": "markdown",
   "id": "df633caa",
   "metadata": {},
   "source": [
    "Итоговый датафрейм содержит данные о разметке фильмов, отчищенные субтитры, количество слова каждой категории в субтитре и бинарный переменные, которые будут при моделировании выступать как зависимая переменная.\n"
   ]
  },
  {
   "cell_type": "markdown",
   "id": "bed4514a",
   "metadata": {},
   "source": [
    "## Моделирование"
   ]
  },
  {
   "cell_type": "code",
   "execution_count": 25,
   "id": "3ce43e57",
   "metadata": {},
   "outputs": [],
   "source": [
    "def res(model,X_train, y_train, X_test, y_test):\n",
    "    dt = datetime.now()\n",
    "    model = model.fit(X_train, y_train)\n",
    "    dt_train = datetime.now() - dt\n",
    "\n",
    "    pred_train = model.predict(X_train)\n",
    "    pred_valid = model.predict(X_test)\n",
    "\n",
    "    a_train = accuracy_score(y_train, pred_train)\n",
    "    a_valid = accuracy_score(y_test, pred_valid)\n",
    "\n",
    "    print('model name:', type(model).__name__)\n",
    "    print('time:', dt_train)\n",
    "    print('accuracy train: {}%'.format(round(a_train*100,2)))\n",
    "    print('accuracy test: {}%'.format(round(a_valid*100,2))) "
   ]
  },
  {
   "cell_type": "markdown",
   "id": "b822f624",
   "metadata": {},
   "source": [
    "Для работы с текстовыми данными воспользуемся генератором фичей TfidfVectorizer. А в качество модели возьмём MultinomialNB. \n",
    "\n",
    "Наивный байесовский классификатор для полиномиальных моделей подходит для классификации с дискретными признаками (например, количество слов для классификации текста), также в документации сказано, что метод работает с tf-idf векторизацией.\n",
    "\n",
    "Для каждого уровня будет построена своя бинарная модель в двух вариантах:\n",
    "1. Модель получает только матрицу полученную при векторизации субтитров\n",
    "2. Модель обучается на данных о количестве слов в каждой категории и матрице векторизации субтитров "
   ]
  },
  {
   "cell_type": "code",
   "execution_count": 26,
   "id": "2d4a935b",
   "metadata": {},
   "outputs": [],
   "source": [
    "vectorizer = TfidfVectorizer()\n",
    "X = vectorizer.fit_transform(level_df['Subtitles'])\n",
    "\n",
    "tfidf_df = pd.DataFrame(X.toarray(), index=level_df['Movie'], columns = vectorizer.get_feature_names_out())\n",
    "tfidf_level_df = level_df.merge(tfidf_df, on='Movie', how='left')\n",
    "X_data = tfidf_level_df.drop(['Movie', 'Level','Subtitles', 'A2', 'B1', 'B2', 'C1'], axis=1)"
   ]
  },
  {
   "cell_type": "markdown",
   "id": "3ac4afd6",
   "metadata": {},
   "source": [
    "### Модель для группы A2"
   ]
  },
  {
   "cell_type": "code",
   "execution_count": 27,
   "id": "c8029b1c",
   "metadata": {},
   "outputs": [],
   "source": [
    "y = level_df['A2']\n",
    "\n",
    "X_train, X_test, y_train, y_test = train_test_split(X,y, test_size = 0.2, random_state = random_state,stratify=y)"
   ]
  },
  {
   "cell_type": "markdown",
   "id": "d7a07023",
   "metadata": {},
   "source": [
    "#### Модель на текстовых данных"
   ]
  },
  {
   "cell_type": "code",
   "execution_count": 28,
   "id": "70b45529",
   "metadata": {
    "scrolled": true
   },
   "outputs": [
    {
     "name": "stdout",
     "output_type": "stream",
     "text": [
      "{'alpha': 0.05}\n",
      "model name: MultinomialNB\n",
      "time: 0:00:00.001995\n",
      "accuracy train: 89.42%\n",
      "accuracy test: 85.42%\n"
     ]
    }
   ],
   "source": [
    "model = MultinomialNB()\n",
    "\n",
    "parameters = {'alpha':[0.05, 0.3, 0.5, 0.7,0.9]}\n",
    "\n",
    "RCmodel = RandomizedSearchCV(model, parameters, cv= 5, scoring='accuracy',n_iter=5)\n",
    "RCmodel = RCmodel.fit(X_train, y_train)\n",
    "print(RCmodel.best_params_)\n",
    "\n",
    "model = MultinomialNB(alpha = RCmodel.best_params_['alpha'])\n",
    "res(model,X_train, y_train, X_test, y_test)"
   ]
  },
  {
   "cell_type": "markdown",
   "id": "2c9487e4",
   "metadata": {},
   "source": [
    "#### Модель на текстовых и количественных данных"
   ]
  },
  {
   "cell_type": "code",
   "execution_count": 29,
   "id": "88c49c66",
   "metadata": {},
   "outputs": [],
   "source": [
    "X_train, X_test, y_train, y_test = train_test_split(X_data,y, test_size = 0.2, random_state = random_state,stratify=y)"
   ]
  },
  {
   "cell_type": "code",
   "execution_count": 30,
   "id": "ac33ae32",
   "metadata": {},
   "outputs": [
    {
     "name": "stdout",
     "output_type": "stream",
     "text": [
      "{'alpha': 0.05}\n",
      "model name: MultinomialNB\n",
      "time: 0:00:00.104999\n",
      "accuracy train: 84.13%\n",
      "accuracy test: 83.33%\n"
     ]
    }
   ],
   "source": [
    "model = MultinomialNB()\n",
    "\n",
    "parameters = {'alpha':[0.05, 0.3, 0.5, 0.7,0.9]}\n",
    "\n",
    "RCmodel = RandomizedSearchCV(model, parameters, cv= 5, scoring='accuracy',n_iter=5)\n",
    "RCmodel = RCmodel.fit(X_train, y_train)\n",
    "print(RCmodel.best_params_)\n",
    "\n",
    "model = MultinomialNB(alpha = RCmodel.best_params_['alpha'])\n",
    "res(model,X_train, y_train, X_test, y_test)"
   ]
  },
  {
   "cell_type": "markdown",
   "id": "6519d5be",
   "metadata": {},
   "source": [
    "### Модель для группы B1"
   ]
  },
  {
   "cell_type": "markdown",
   "id": "50bcdf5c",
   "metadata": {},
   "source": [
    "#### Модель на текстовых данных"
   ]
  },
  {
   "cell_type": "code",
   "execution_count": 31,
   "id": "4d522c5c",
   "metadata": {},
   "outputs": [],
   "source": [
    "y = level_df['B1']\n",
    "\n",
    "X_train, X_test, y_train, y_test = train_test_split(X,y, test_size = 0.2, random_state = random_state,stratify=y)"
   ]
  },
  {
   "cell_type": "code",
   "execution_count": 32,
   "id": "cfee0904",
   "metadata": {},
   "outputs": [
    {
     "name": "stdout",
     "output_type": "stream",
     "text": [
      "{'alpha': 0.05}\n",
      "model name: MultinomialNB\n",
      "time: 0:00:00.002002\n",
      "accuracy train: 94.18%\n",
      "accuracy test: 72.92%\n"
     ]
    }
   ],
   "source": [
    "model = MultinomialNB()\n",
    "\n",
    "parameters = {'alpha':[0.05, 0.3, 0.5, 0.7,0.9]}\n",
    "\n",
    "RCmodel = RandomizedSearchCV(model, parameters, cv= 5, scoring='accuracy',n_iter=5)\n",
    "RCmodel = RCmodel.fit(X_train, y_train)\n",
    "print(RCmodel.best_params_)\n",
    "\n",
    "model = MultinomialNB(alpha = RCmodel.best_params_['alpha'])\n",
    "res(model,X_train, y_train, X_test, y_test)"
   ]
  },
  {
   "cell_type": "markdown",
   "id": "fcb8f8a5",
   "metadata": {},
   "source": [
    "#### Модель на текстовых и количественных данных"
   ]
  },
  {
   "cell_type": "code",
   "execution_count": 33,
   "id": "6d3b3c04",
   "metadata": {},
   "outputs": [],
   "source": [
    "X_train, X_test, y_train, y_test = train_test_split(X_data,y, test_size = 0.2, random_state = random_state,stratify=y)"
   ]
  },
  {
   "cell_type": "code",
   "execution_count": 34,
   "id": "231b9530",
   "metadata": {},
   "outputs": [
    {
     "name": "stdout",
     "output_type": "stream",
     "text": [
      "{'alpha': 0.05}\n",
      "model name: MultinomialNB\n",
      "time: 0:00:00.105000\n",
      "accuracy train: 77.25%\n",
      "accuracy test: 75.0%\n"
     ]
    }
   ],
   "source": [
    "model = MultinomialNB()\n",
    "\n",
    "parameters = {'alpha':[0.05, 0.3, 0.5, 0.7,0.9]}\n",
    "\n",
    "RCmodel = RandomizedSearchCV(model, parameters, cv= 5, scoring='accuracy',n_iter=5)\n",
    "RCmodel = RCmodel.fit(X_train, y_train)\n",
    "print(RCmodel.best_params_)\n",
    "\n",
    "model = MultinomialNB(alpha = RCmodel.best_params_['alpha'])\n",
    "res(model,X_train, y_train, X_test, y_test)"
   ]
  },
  {
   "cell_type": "markdown",
   "id": "be73dc09",
   "metadata": {},
   "source": [
    "### Модель для группы B2"
   ]
  },
  {
   "cell_type": "markdown",
   "id": "211d4e40",
   "metadata": {},
   "source": [
    "#### Модель на текстовых данных"
   ]
  },
  {
   "cell_type": "code",
   "execution_count": 35,
   "id": "d319c221",
   "metadata": {},
   "outputs": [],
   "source": [
    "y = level_df['B2']\n",
    "\n",
    "X_train, X_test, y_train, y_test = train_test_split(X,y, test_size = 0.2, random_state = random_state,stratify=y)"
   ]
  },
  {
   "cell_type": "code",
   "execution_count": 36,
   "id": "13ae29d8",
   "metadata": {},
   "outputs": [
    {
     "name": "stdout",
     "output_type": "stream",
     "text": [
      "{'alpha': 0.05}\n",
      "model name: MultinomialNB\n",
      "time: 0:00:00.002000\n",
      "accuracy train: 94.71%\n",
      "accuracy test: 77.08%\n"
     ]
    }
   ],
   "source": [
    "model = MultinomialNB()\n",
    "\n",
    "parameters = {'alpha':[0.05, 0.3, 0.5, 0.7,0.9]}\n",
    "\n",
    "RCmodel = RandomizedSearchCV(model, parameters, cv= 5, scoring='accuracy',n_iter=5)\n",
    "RCmodel = RCmodel.fit(X_train, y_train)\n",
    "print(RCmodel.best_params_)\n",
    "\n",
    "model = MultinomialNB(alpha = RCmodel.best_params_['alpha'])\n",
    "res(model,X_train, y_train, X_test, y_test)"
   ]
  },
  {
   "cell_type": "markdown",
   "id": "d94b7dda",
   "metadata": {},
   "source": [
    "#### Модель на текстовых и количественных данных"
   ]
  },
  {
   "cell_type": "code",
   "execution_count": 37,
   "id": "db41fe83",
   "metadata": {},
   "outputs": [],
   "source": [
    "X_train, X_test, y_train, y_test = train_test_split(X_data,y, test_size = 0.2, random_state = random_state,stratify=y)"
   ]
  },
  {
   "cell_type": "code",
   "execution_count": 38,
   "id": "c92d5c50",
   "metadata": {},
   "outputs": [
    {
     "name": "stdout",
     "output_type": "stream",
     "text": [
      "{'alpha': 0.05}\n",
      "model name: MultinomialNB\n",
      "time: 0:00:00.104000\n",
      "accuracy train: 96.3%\n",
      "accuracy test: 81.25%\n"
     ]
    }
   ],
   "source": [
    "model = MultinomialNB()\n",
    "\n",
    "parameters = {'alpha':[0.05, 0.3, 0.5, 0.7,0.9]}\n",
    "\n",
    "RCmodel = RandomizedSearchCV(model, parameters, cv= 5, scoring='accuracy',n_iter=5)\n",
    "RCmodel = RCmodel.fit(X_train, y_train)\n",
    "print(RCmodel.best_params_)\n",
    "\n",
    "model = MultinomialNB(alpha = RCmodel.best_params_['alpha'])\n",
    "res(model,X_train, y_train, X_test, y_test)"
   ]
  },
  {
   "cell_type": "markdown",
   "id": "2fa27acf",
   "metadata": {},
   "source": [
    "### Модель для группы С1"
   ]
  },
  {
   "cell_type": "markdown",
   "id": "67bd61fb",
   "metadata": {},
   "source": [
    "#### Модель на текстовых данных"
   ]
  },
  {
   "cell_type": "code",
   "execution_count": 39,
   "id": "3ba5c9ec",
   "metadata": {},
   "outputs": [],
   "source": [
    "y = level_df['C1']\n",
    "\n",
    "X_train, X_test, y_train, y_test = train_test_split(X,y, test_size = 0.2, random_state = random_state,stratify=y)"
   ]
  },
  {
   "cell_type": "code",
   "execution_count": 40,
   "id": "e9acea77",
   "metadata": {},
   "outputs": [
    {
     "name": "stdout",
     "output_type": "stream",
     "text": [
      "{'alpha': 0.05}\n",
      "model name: MultinomialNB\n",
      "time: 0:00:00.001999\n",
      "accuracy train: 88.36%\n",
      "accuracy test: 83.33%\n"
     ]
    }
   ],
   "source": [
    "model = MultinomialNB()\n",
    "\n",
    "parameters = {'alpha':[0.05, 0.3, 0.5, 0.7,0.9]}\n",
    "\n",
    "RCmodel = RandomizedSearchCV(model, parameters, cv= 5, scoring='accuracy',n_iter=5)\n",
    "RCmodel = RCmodel.fit(X_train, y_train)\n",
    "print(RCmodel.best_params_)\n",
    "\n",
    "model = MultinomialNB(alpha = RCmodel.best_params_['alpha'])\n",
    "res(model,X_train, y_train, X_test, y_test)"
   ]
  },
  {
   "cell_type": "markdown",
   "id": "4b6b8f92",
   "metadata": {},
   "source": [
    "#### Модель на текстовых и количественных данных"
   ]
  },
  {
   "cell_type": "code",
   "execution_count": 41,
   "id": "6b7f7da3",
   "metadata": {},
   "outputs": [],
   "source": [
    "X_train, X_test, y_train, y_test = train_test_split(X_data,y, test_size = 0.2, random_state = random_state,stratify=y)"
   ]
  },
  {
   "cell_type": "code",
   "execution_count": 42,
   "id": "d2845983",
   "metadata": {},
   "outputs": [
    {
     "name": "stdout",
     "output_type": "stream",
     "text": [
      "{'alpha': 0.05}\n",
      "model name: MultinomialNB\n",
      "time: 0:00:00.107000\n",
      "accuracy train: 83.07%\n",
      "accuracy test: 83.33%\n"
     ]
    }
   ],
   "source": [
    "model = MultinomialNB()\n",
    "\n",
    "parameters = {'alpha':[0.05, 0.3, 0.5, 0.7,0.9]}\n",
    "\n",
    "RCmodel = RandomizedSearchCV(model, parameters, cv= 5, scoring='accuracy',n_iter=5)\n",
    "RCmodel = RCmodel.fit(X_train, y_train)\n",
    "print(RCmodel.best_params_)\n",
    "\n",
    "model = MultinomialNB(alpha = RCmodel.best_params_['alpha'])\n",
    "res(model,X_train, y_train, X_test, y_test)"
   ]
  },
  {
   "cell_type": "markdown",
   "id": "62373984",
   "metadata": {},
   "source": [
    "## Итоги"
   ]
  },
  {
   "cell_type": "markdown",
   "id": "b927e244",
   "metadata": {},
   "source": [
    "В результате проделанной работы были сделаны следующие шаги:\n",
    "\n",
    "1. Загружены входные данные\n",
    "2. Данные обработаны следующими методами:\n",
    "- Удалены дубликаты\n",
    "- Проведена чистка от мусорных слов и символов\n",
    "- Проведена лемматизация\n",
    "- Проведен стэминг\n",
    "3. Данные были обогащены\n",
    "4. Была расчитана модель MultinomialNB\t\n",
    "5. При помощи метода RandomizedSearchCV с помощью метрики accuracy были выбраны лучшие параметры для моделей.\n",
    " \n",
    "В результате проделанной работы была были получены следующие значения метрик:\n",
    "\n",
    "| name | train стандарт | train обогащ | test стандарт | test обогащ |\n",
    "|----------|----------|----------|----------|----------|\n",
    "| A2     | 89.42%   | 96.83%   | 85.42%   | 85.42%   |\n",
    "| B1     | 77.25%   |94.71%   | 75.0%   | 77.08%   |\n",
    "| B2     | 94.71%   | 96.3%   | 77.08%   | 81.25%   |\n",
    "| C1     | 88.36%   | 83.07%   | 83.33%   | 83.33%   |\n",
    "\n",
    "Не смотря на то, что результаты получены очень близкие видно, что на тестовой выборке модель на обогащенных данных ведет себя лучше или не уступает для всех уровней.\n",
    "\n",
    "Модель на обогащенных данных показывает хороший стабильный результат для всех категорий фильмов и может быть использована заказчиком."
   ]
  },
  {
   "cell_type": "code",
   "execution_count": null,
   "id": "11bbfd83",
   "metadata": {},
   "outputs": [],
   "source": []
  }
 ],
 "metadata": {
  "kernelspec": {
   "display_name": "Python 3 (ipykernel)",
   "language": "python",
   "name": "python3"
  },
  "language_info": {
   "codemirror_mode": {
    "name": "ipython",
    "version": 3
   },
   "file_extension": ".py",
   "mimetype": "text/x-python",
   "name": "python",
   "nbconvert_exporter": "python",
   "pygments_lexer": "ipython3",
   "version": "3.9.12"
  },
  "toc": {
   "base_numbering": 1,
   "nav_menu": {},
   "number_sections": true,
   "sideBar": true,
   "skip_h1_title": false,
   "title_cell": "Table of Contents",
   "title_sidebar": "Contents",
   "toc_cell": false,
   "toc_position": {},
   "toc_section_display": true,
   "toc_window_display": false
  }
 },
 "nbformat": 4,
 "nbformat_minor": 5
}
